{
 "cells": [
  {
   "cell_type": "code",
   "execution_count": 46,
   "metadata": {},
   "outputs": [],
   "source": [
    "import numpy as np\n",
    "import pandas as pd"
   ]
  },
  {
   "cell_type": "code",
   "execution_count": 44,
   "metadata": {},
   "outputs": [
    {
     "name": "stdout",
     "output_type": "stream",
     "text": [
      "['  Dy MxT   MnT   AvT   HDDay  AvDP 1HrP TPcpn WxType PDir AvSp Dir MxS SkyC MxR MnR AvSLP', '', '   1  88    59    74          53.8       0.00 F       280  9.6 270  17  1.6  93 23 1004.5', '   2  79    63    71          46.5       0.00         330  8.7 340  23  3.3  70 28 1004.5', '   3  77    55    66          39.6       0.00         350  5.0 350   9  2.8  59 24 1016.8']\n"
     ]
    }
   ],
   "source": [
    "with open('weather.dat', 'r') as file:\n",
    "    lines = [line.rstrip() for line in file] #should remove trailing and leading non data chars\n",
    "    print(lines[0:5])\n",
    "    # note that second line is empty"
   ]
  },
  {
   "cell_type": "code",
   "execution_count": 56,
   "metadata": {},
   "outputs": [
    {
     "name": "stdout",
     "output_type": "stream",
     "text": [
      "<class 'str'>\n"
     ]
    }
   ],
   "source": [
    "print(type(lines[0]))\n",
    "# we can see that the line is stored in a string with varying amounts of spaces"
   ]
  },
  {
   "cell_type": "code",
   "execution_count": 85,
   "metadata": {},
   "outputs": [
    {
     "name": "stdout",
     "output_type": "stream",
     "text": [
      "line has 3 elements\n",
      "['Dy', 'MxT', 'MnT']\n"
     ]
    }
   ],
   "source": [
    "# define a way to split a line and remove spaces\n",
    "def split_line(line, verbose = False):\n",
    "    splitted_line = line.split(\" \")\n",
    "    #print(splitted_line)\n",
    "    no_spaces_line = [x for x in splitted_line if x != '']\n",
    "    #print(no_spaces_line)\n",
    "    # we select only relevant first 3 columns\n",
    "    no_spaces_line = no_spaces_line[0:3]\n",
    "    if verbose:\n",
    "        print(\"line has {} elements\".format(len(no_spaces_line)))\n",
    "    return no_spaces_line\n",
    "\n",
    "print(split_line(lines[0], True))"
   ]
  },
  {
   "cell_type": "code",
   "execution_count": 83,
   "metadata": {},
   "outputs": [
    {
     "name": "stdout",
     "output_type": "stream",
     "text": [
      "['3', '77', '55']\n"
     ]
    }
   ],
   "source": [
    "array_data = [split_line(line) for line in lines]\n",
    "print(array_data[4])"
   ]
  },
  {
   "cell_type": "code",
   "execution_count": 108,
   "metadata": {},
   "outputs": [
    {
     "name": "stdout",
     "output_type": "stream",
     "text": [
      "  Dy MxT MnT\n",
      "0  1  88  59\n",
      "1  2  79  63\n",
      "2  3  77  55\n",
      "3  4  77  59\n",
      "4  5  90  66\n"
     ]
    }
   ],
   "source": [
    "df = pd.DataFrame(data = array_data[2:], columns = array_data[0])\n",
    "print(df.head())"
   ]
  },
  {
   "cell_type": "code",
   "execution_count": 109,
   "metadata": {},
   "outputs": [
    {
     "name": "stdout",
     "output_type": "stream",
     "text": [
      "  Dy  MxT  MnT  ampl\n",
      "0  1   88   59    29\n",
      "1  2   79   63    16\n",
      "2  3   77   55    22\n",
      "3  4   77   59    18\n",
      "4  5   90   66    24\n"
     ]
    }
   ],
   "source": [
    "df[\"MxT\"] = df[\"MxT\"].str.extract('(\\d+)', expand = False).astype(int)\n",
    "df[\"MnT\"] = df[\"MnT\"].str.extract('(\\d+)', expand = False).astype(int)\n",
    "\n",
    "#calculate temp variation\n",
    "df[\"ampl\"] = df[\"MxT\"] - df[\"MnT\"]\n",
    "\n",
    "print(df.head())"
   ]
  },
  {
   "cell_type": "code",
   "execution_count": 112,
   "metadata": {},
   "outputs": [
    {
     "name": "stdout",
     "output_type": "stream",
     "text": [
      "   Dy  MxT  MnT  ampl\n",
      "0   9   86   32    54\n",
      "1  30   90   45    45\n",
      "2  26   97   64    33\n",
      "3  11   91   59    32\n",
      "4  18   82   52    30\n",
      "Max variation day: 9\n"
     ]
    }
   ],
   "source": [
    "df.sort_values(\"ampl\", ascending = False, inplace = True)\n",
    "df.reset_index(inplace = True, drop = True)\n",
    "print(df.head())\n",
    "print(\"Max variation day: {}\".format(df[\"Dy\"][0]))"
   ]
  },
  {
   "cell_type": "code",
   "execution_count": null,
   "metadata": {},
   "outputs": [],
   "source": []
  },
  {
   "cell_type": "code",
   "execution_count": null,
   "metadata": {},
   "outputs": [],
   "source": []
  }
 ],
 "metadata": {
  "kernelspec": {
   "display_name": "Python 3",
   "language": "python",
   "name": "python3"
  },
  "language_info": {
   "codemirror_mode": {
    "name": "ipython",
    "version": 3
   },
   "file_extension": ".py",
   "mimetype": "text/x-python",
   "name": "python",
   "nbconvert_exporter": "python",
   "pygments_lexer": "ipython3",
   "version": "3.8.6"
  }
 },
 "nbformat": 4,
 "nbformat_minor": 4
}
